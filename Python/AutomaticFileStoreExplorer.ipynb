{
 "cells": [
  {
   "cell_type": "markdown",
   "id": "d35a7388-9153-41b2-a8af-8e81d26b9ea3",
   "metadata": {},
   "source": [
    "# Almacenamiento automático de archivos en el Explorador de archivos (Mejorado)"
   ]
  },
  {
   "cell_type": "code",
   "execution_count": null,
   "id": "71eda349-3652-4347-a375-4a78230dd1d9",
   "metadata": {},
   "outputs": [],
   "source": [
    "# Tomar los archivos y colocarlos en sus propias carpetas dependiendo del tipo de archivo que sea."
   ]
  },
  {
   "cell_type": "code",
   "execution_count": 29,
   "id": "d7d94f14-bea4-48cf-ba6b-9bcca6e4c7bf",
   "metadata": {},
   "outputs": [],
   "source": [
    "import os, shutil "
   ]
  },
  {
   "cell_type": "code",
   "execution_count": 30,
   "id": "7aa797a7-f3e5-4c09-bf1b-692be3755f28",
   "metadata": {},
   "outputs": [],
   "source": [
    "path = r\"C:/Users/uriel/Imágenes/Capturas de pantalla/\""
   ]
  },
  {
   "cell_type": "code",
   "execution_count": 31,
   "id": "b0247195-7e9e-4068-8911-9b888839d8c0",
   "metadata": {},
   "outputs": [],
   "source": [
    "#file_name= os.listdir(path)\n",
    "\n",
    "file_paths = [os.path.join(path, file) for file in file_name]\n",
    "#nos muestras todos los archivos de la ruta seleccionada"
   ]
  },
  {
   "cell_type": "code",
   "execution_count": 32,
   "id": "d0a4003a-f922-49e4-8026-fcc4a9da9fd5",
   "metadata": {},
   "outputs": [],
   "source": [
    "folder_names = ['csv files', 'img files', 'text files', 'video files']\n",
    "for loop in range(0,4):\n",
    "    if not os.path.exists(path + folder_names[loop]):\n",
    "        print(path + folder_names[loop])\n",
    "        os.makedirs((path + folder_names[loop]))"
   ]
  },
  {
   "cell_type": "code",
   "execution_count": 34,
   "id": "aedb32e4-720c-432b-8289-58718ab43b5a",
   "metadata": {},
   "outputs": [],
   "source": [
    "for file in file_name:\n",
    "    if \".mp4\" in file and not os.path.exists(path + \"video files/\" + file):\n",
    "        shutil.move(path + file, path + \"video files/\" + file)\n",
    "    elif \".png\" in file and not os.path.exists(path + \"img files/\" + file):\n",
    "        shutil.move(path + file, path + \"img files/\" + file)\n",
    "    elif \".txt\" in file and not os.path.exists(path + \"text files/\" + file):\n",
    "        shutil.move(path + file, path + \"text files/\" + file)\n",
    "    elif \".csv\" in file and not os.path.exists(path + \"csv files/\" + file):\n",
    "        shutil.move(path + file, path + \"csv files/\" + file)    \n",
    "     "
   ]
  },
  {
   "cell_type": "code",
   "execution_count": null,
   "id": "16968aa2-58fc-41e2-a4e5-7a2775a0e14f",
   "metadata": {},
   "outputs": [],
   "source": []
  },
  {
   "cell_type": "code",
   "execution_count": null,
   "id": "901cac4a-2121-4570-b20e-910233bec7b1",
   "metadata": {},
   "outputs": [],
   "source": []
  },
  {
   "cell_type": "code",
   "execution_count": null,
   "id": "bc144362-75b2-4684-8226-7a28ae01adbd",
   "metadata": {},
   "outputs": [],
   "source": []
  },
  {
   "cell_type": "code",
   "execution_count": null,
   "id": "07513793-6d46-43a2-92d6-a3611bf1eed6",
   "metadata": {},
   "outputs": [],
   "source": []
  },
  {
   "cell_type": "code",
   "execution_count": null,
   "id": "066e7950-214d-430f-a88f-53aacc839da1",
   "metadata": {},
   "outputs": [],
   "source": []
  }
 ],
 "metadata": {
  "kernelspec": {
   "display_name": "Python 3 (ipykernel)",
   "language": "python",
   "name": "python3"
  },
  "language_info": {
   "codemirror_mode": {
    "name": "ipython",
    "version": 3
   },
   "file_extension": ".py",
   "mimetype": "text/x-python",
   "name": "python",
   "nbconvert_exporter": "python",
   "pygments_lexer": "ipython3",
   "version": "3.12.4"
  }
 },
 "nbformat": 4,
 "nbformat_minor": 5
}

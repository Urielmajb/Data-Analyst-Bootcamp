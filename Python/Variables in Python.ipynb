{
 "cells": [
  {
   "cell_type": "markdown",
   "id": "a2644efe-2049-46ec-834f-c8a9542c025d",
   "metadata": {},
   "source": [
    "# Variables in Python"
   ]
  },
  {
   "cell_type": "code",
   "execution_count": 1,
   "id": "897bbaba-f01a-4148-a45a-1aacda6965ef",
   "metadata": {},
   "outputs": [
    {
     "name": "stdout",
     "output_type": "stream",
     "text": [
      "22\n"
     ]
    }
   ],
   "source": [
    "x = 22\n",
    "\n",
    "print(x)"
   ]
  },
  {
   "cell_type": "code",
   "execution_count": 3,
   "id": "b257b616-e4bd-4ff4-9528-f0f549c5a219",
   "metadata": {},
   "outputs": [
    {
     "data": {
      "text/plain": [
       "int"
      ]
     },
     "execution_count": 3,
     "metadata": {},
     "output_type": "execute_result"
    }
   ],
   "source": [
    "type(x) #usamos esto para identificar que tipo de variable es"
   ]
  },
  {
   "cell_type": "code",
   "execution_count": 4,
   "id": "8f5e0398-bb8b-457f-8e1f-41b68b88c170",
   "metadata": {},
   "outputs": [
    {
     "name": "stdout",
     "output_type": "stream",
     "text": [
      "Gallopinto\n"
     ]
    }
   ],
   "source": [
    "y= 'Gallopinto'\n",
    "\n",
    "print(y)"
   ]
  },
  {
   "cell_type": "code",
   "execution_count": 5,
   "id": "57ba89bf-9577-4273-ace6-fef3074716a1",
   "metadata": {},
   "outputs": [
    {
     "data": {
      "text/plain": [
       "str"
      ]
     },
     "execution_count": 5,
     "metadata": {},
     "output_type": "execute_result"
    }
   ],
   "source": [
    "type (y)"
   ]
  },
  {
   "cell_type": "code",
   "execution_count": 6,
   "id": "d4f3cf23-fd95-4592-9b87-c900953dda05",
   "metadata": {},
   "outputs": [
    {
     "name": "stdout",
     "output_type": "stream",
     "text": [
      "Cafe con leche\n"
     ]
    }
   ],
   "source": [
    "y = 'Cafe con leche' #Cuando hay dos variables iguales, siempre se presenta la que esta escrita despues\n",
    "\n",
    "print(y)"
   ]
  },
  {
   "cell_type": "code",
   "execution_count": 7,
   "id": "541fc983-a20e-4c10-8259-410a6a160b6c",
   "metadata": {},
   "outputs": [
    {
     "name": "stdout",
     "output_type": "stream",
     "text": [
      "Chocolate\n",
      "Vanilla\n",
      "Rocky road\n",
      "Chocolate Vanilla Rocky road\n"
     ]
    }
   ],
   "source": [
    "x,y,z = 'Chocolate', 'Vanilla', 'Rocky road'\n",
    "\n",
    "print(x)\n",
    "print(y)\n",
    "print(z)\n",
    "print(x,y,z)"
   ]
  },
  {
   "cell_type": "code",
   "execution_count": 8,
   "id": "17e99783-ecaf-4e97-bef8-c5cf0ac8d1bd",
   "metadata": {},
   "outputs": [
    {
     "name": "stdout",
     "output_type": "stream",
     "text": [
      "Chocolate con leche\n",
      "Chocolate con leche\n",
      "Chocolate con leche\n"
     ]
    }
   ],
   "source": [
    "x= y =z = 'Chocolate con leche' #Se puede imprimir multibles variables a un valor\n",
    "\n",
    "print(x)\n",
    "print(y)\n",
    "print(z)"
   ]
  },
  {
   "cell_type": "code",
   "execution_count": 9,
   "id": "4f9d5b2f-17f7-4c7f-8a2c-c8e1821d08f2",
   "metadata": {},
   "outputs": [
    {
     "name": "stdout",
     "output_type": "stream",
     "text": [
      "Chocolate\n",
      "Vanilla\n",
      "Rocky road\n"
     ]
    }
   ],
   "source": [
    "ice_cream = ['Chocolate', 'Vanilla', 'Rocky road'] #Creacion de listas\n",
    "\n",
    "x,y,z = ice_cream #Asignamos otras variables con la lista que se creò\n",
    "\n",
    "print(x)\n",
    "print(y)\n",
    "print(z)"
   ]
  },
  {
   "cell_type": "markdown",
   "id": "32404c7b-e9e6-4224-8b8c-5ebc245ca9a7",
   "metadata": {},
   "source": [
    "# Mejores practicas para nombrar variables"
   ]
  },
  {
   "cell_type": "code",
   "execution_count": null,
   "id": "a5782438-956a-4222-a759-16ce745f5b85",
   "metadata": {},
   "outputs": [],
   "source": [
    "# Camel Case\n",
    "\n",
    "#Test variable case\n",
    "\n",
    "testVariableCase = 'Vanilla Swirl' #La primera letra es minuscula y el resto de la van con upper case"
   ]
  },
  {
   "cell_type": "code",
   "execution_count": null,
   "id": "a49c9baf-1fc5-4c77-a2fd-cd1e1661c4e3",
   "metadata": {},
   "outputs": [],
   "source": [
    "# Pascal Case\n",
    "\n",
    "#Test variable case\n",
    "\n",
    "TestVariableCase = 'Vanilla Swirl' #La primera inicial de cada letra van con upper case"
   ]
  },
  {
   "cell_type": "code",
   "execution_count": null,
   "id": "0765e6d6-d30b-4f02-9a6d-a45ac4c31de7",
   "metadata": {},
   "outputs": [],
   "source": [
    "# Snake Case\n",
    "\n",
    "#Test variable case\n",
    "\n",
    "test_variable_case = 'Vanilla Swirl' #Van en minuscula pero con un underscore."
   ]
  },
  {
   "cell_type": "markdown",
   "id": "5bc2b2ac-d19e-4c05-b522-532a8b244189",
   "metadata": {},
   "source": [
    "# Operadores con variables"
   ]
  },
  {
   "cell_type": "code",
   "execution_count": 10,
   "id": "6b95e44b-31a3-4c82-9b80-b4f84c213bf8",
   "metadata": {},
   "outputs": [
    {
     "name": "stdout",
     "output_type": "stream",
     "text": [
      "Ice cream is my favorite.\n"
     ]
    }
   ],
   "source": [
    "# + (Concatena y hace suma)\n",
    "\n",
    "x = 'Ice cream is my favorite' + '.'\n",
    "print(x)"
   ]
  },
  {
   "cell_type": "code",
   "execution_count": 11,
   "id": "3f5c9696-59e2-4cca-b0cb-b79cb629b8be",
   "metadata": {},
   "outputs": [
    {
     "name": "stdout",
     "output_type": "stream",
     "text": [
      "5\n"
     ]
    }
   ],
   "source": [
    "y = 3 + 2\n",
    "print(y)"
   ]
  },
  {
   "cell_type": "code",
   "execution_count": 12,
   "id": "f98f02e0-3d24-4da0-ae15-7f365b9ca9f1",
   "metadata": {},
   "outputs": [
    {
     "name": "stdout",
     "output_type": "stream",
     "text": [
      " Ice cream is my favorite\n"
     ]
    }
   ],
   "source": [
    "x= ' Ice cream'\n",
    "y= ' is'\n",
    "z= ' my favorite'\n",
    "\n",
    "print(x+y+z)"
   ]
  },
  {
   "cell_type": "code",
   "execution_count": null,
   "id": "100bdb46-fae6-4cb0-b109-66a4db591f6b",
   "metadata": {},
   "outputs": [],
   "source": []
  }
 ],
 "metadata": {
  "kernelspec": {
   "display_name": "Python 3 (ipykernel)",
   "language": "python",
   "name": "python3"
  },
  "language_info": {
   "codemirror_mode": {
    "name": "ipython",
    "version": 3
   },
   "file_extension": ".py",
   "mimetype": "text/x-python",
   "name": "python",
   "nbconvert_exporter": "python",
   "pygments_lexer": "ipython3",
   "version": "3.12.4"
  }
 },
 "nbformat": 4,
 "nbformat_minor": 5
}

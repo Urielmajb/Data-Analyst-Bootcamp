{
 "cells": [
  {
   "cell_type": "markdown",
   "id": "9ffabfbb-f446-44ae-a054-e9d0ac15ca3c",
   "metadata": {},
   "source": [
    "# Converting Data Types"
   ]
  },
  {
   "cell_type": "code",
   "execution_count": 1,
   "id": "285866a6-b068-4f19-b4af-b7d022cd6308",
   "metadata": {},
   "outputs": [
    {
     "data": {
      "text/plain": [
       "int"
      ]
     },
     "execution_count": 1,
     "metadata": {},
     "output_type": "execute_result"
    }
   ],
   "source": [
    "num_int = 7\n",
    "\n",
    "type(num_int)"
   ]
  },
  {
   "cell_type": "code",
   "execution_count": 6,
   "id": "02b44dc6-9327-4e1e-ac87-af35acea7f52",
   "metadata": {},
   "outputs": [
    {
     "data": {
      "text/plain": [
       "int"
      ]
     },
     "execution_count": 6,
     "metadata": {},
     "output_type": "execute_result"
    }
   ],
   "source": [
    "num_str = '7'\n",
    "num_str_conv = int(num_str) # De esta manera convertimos un str en int\n",
    "\n",
    "type(num_str_conv)"
   ]
  },
  {
   "cell_type": "code",
   "execution_count": 9,
   "id": "4a277d55-6441-46ba-8cc2-d27dd6413840",
   "metadata": {},
   "outputs": [
    {
     "name": "stdout",
     "output_type": "stream",
     "text": [
      "14\n"
     ]
    }
   ],
   "source": [
    "num_sum = num_int + num_str_conv\n",
    "\n",
    "print(num_sum)"
   ]
  },
  {
   "cell_type": "code",
   "execution_count": 10,
   "id": "1c1a2427-f839-4274-a31c-36960f194f96",
   "metadata": {},
   "outputs": [
    {
     "data": {
      "text/plain": [
       "list"
      ]
     },
     "execution_count": 10,
     "metadata": {},
     "output_type": "execute_result"
    }
   ],
   "source": [
    "# Convirtiendo listas, tuplas, dic y sets\n",
    "\n",
    "list_type = [1,2,3]\n",
    "type(list_type)"
   ]
  },
  {
   "cell_type": "code",
   "execution_count": 11,
   "id": "424baa9b-d4df-4e86-923a-aa4c348cebda",
   "metadata": {},
   "outputs": [
    {
     "data": {
      "text/plain": [
       "tuple"
      ]
     },
     "execution_count": 11,
     "metadata": {},
     "output_type": "execute_result"
    }
   ],
   "source": [
    "type((tuple(list_type)))"
   ]
  },
  {
   "cell_type": "code",
   "execution_count": 12,
   "id": "672ced0d-70f2-4f08-9f8a-8c2054e0ef99",
   "metadata": {},
   "outputs": [
    {
     "data": {
      "text/plain": [
       "{1, 2, 3}"
      ]
     },
     "execution_count": 12,
     "metadata": {},
     "output_type": "execute_result"
    }
   ],
   "source": [
    "list_type = [1,2,3,3,2,1,2,3,2,1]\n",
    "set(list_type)"
   ]
  },
  {
   "cell_type": "code",
   "execution_count": 16,
   "id": "39f15677-0a35-498e-b5b9-f6f45341c4e4",
   "metadata": {},
   "outputs": [
    {
     "data": {
      "text/plain": [
       "dict_values(['Urielma', 25, 'curly'])"
      ]
     },
     "execution_count": 16,
     "metadata": {},
     "output_type": "execute_result"
    }
   ],
   "source": [
    "dict_type= {'name': 'Urielma', 'age': 25, 'hair': 'curly'}\n",
    "\n",
    "dict_type.items()\n",
    "dict_type.values()\n"
   ]
  },
  {
   "cell_type": "code",
   "execution_count": 17,
   "id": "2b86e031-d5aa-4da1-a966-655b72d18bb0",
   "metadata": {},
   "outputs": [
    {
     "data": {
      "text/plain": [
       "['name', 'age', 'hair']"
      ]
     },
     "execution_count": 17,
     "metadata": {},
     "output_type": "execute_result"
    }
   ],
   "source": [
    "list(dict_type.keys()) # Convertimos dictionaries in lists"
   ]
  },
  {
   "cell_type": "code",
   "execution_count": 19,
   "id": "61f75647-4720-42ad-811e-082fa36967e2",
   "metadata": {},
   "outputs": [
    {
     "data": {
      "text/plain": [
       "[('name', 'Urielma'), ('age', 25), ('hair', 'curly')]"
      ]
     },
     "execution_count": 19,
     "metadata": {},
     "output_type": "execute_result"
    }
   ],
   "source": [
    "list(dict_type.items())"
   ]
  },
  {
   "cell_type": "code",
   "execution_count": 20,
   "id": "f8e6e648-c1b0-41b2-8c22-6583b3c8038d",
   "metadata": {},
   "outputs": [
    {
     "data": {
      "text/plain": [
       "['U', 'r', 'i', 'e', 'l', 'm', 'a']"
      ]
     },
     "execution_count": 20,
     "metadata": {},
     "output_type": "execute_result"
    }
   ],
   "source": [
    "long_str= 'Urielma' \n",
    "list(long_str)"
   ]
  },
  {
   "cell_type": "code",
   "execution_count": null,
   "id": "4f9c4e07-af9f-46e3-b013-35575801dcef",
   "metadata": {},
   "outputs": [],
   "source": []
  }
 ],
 "metadata": {
  "kernelspec": {
   "display_name": "Python 3 (ipykernel)",
   "language": "python",
   "name": "python3"
  },
  "language_info": {
   "codemirror_mode": {
    "name": "ipython",
    "version": 3
   },
   "file_extension": ".py",
   "mimetype": "text/x-python",
   "name": "python",
   "nbconvert_exporter": "python",
   "pygments_lexer": "ipython3",
   "version": "3.12.4"
  }
 },
 "nbformat": 4,
 "nbformat_minor": 5
}

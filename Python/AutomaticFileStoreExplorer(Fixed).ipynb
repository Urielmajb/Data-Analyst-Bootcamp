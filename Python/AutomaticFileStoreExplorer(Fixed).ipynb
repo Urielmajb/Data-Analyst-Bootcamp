{
 "cells": [
  {
   "cell_type": "markdown",
   "id": "b492f0d8-81ca-4904-a068-0942612a2f24",
   "metadata": {},
   "source": [
    "# Almacenamiento automático de archivos en el Explorador de archivos (Mejorado)\n",
    "\n",
    "Tomar los archivos y colocarlos en sus propias carpetas dependiendo del tipo de archivo que sea.\n",
    "Se mejorò el codigo, solo faltaria que haga esa tarea cada cierto tiempo."
   ]
  },
  {
   "cell_type": "code",
   "execution_count": 12,
   "id": "f9275644-e75d-45d6-b9c0-8e227340af0e",
   "metadata": {},
   "outputs": [],
   "source": [
    "#Importamos los modulos necesarios.\n",
    "\n",
    "import os\n",
    "import shutil "
   ]
  },
  {
   "cell_type": "code",
   "execution_count": 14,
   "id": "9d7a77e7-2e51-4a6a-923e-bf13580d365d",
   "metadata": {},
   "outputs": [
    {
     "name": "stdin",
     "output_type": "stream",
     "text": [
      "Ingrese la ruta del directorio:  C:\\Users\\uriel\\Escritorio\\EJEMPLO\n"
     ]
    },
    {
     "name": "stdout",
     "output_type": "stream",
     "text": [
      "C:\\Users\\uriel\\Escritorio\\EJEMPLO\\mkv files\n",
      "C:\\Users\\uriel\\Escritorio\\EJEMPLO\\png files\n",
      "C:\\Users\\uriel\\Escritorio\\EJEMPLO\\pdf files\n",
      "C:\\Users\\uriel\\Escritorio\\EJEMPLO\\exe files\n"
     ]
    }
   ],
   "source": [
    "#Definimos una función sort_files_into_folders que toma una ruta de argumento única, \n",
    "#que es la ruta del directorio donde queremos ordenar los archivos.\n",
    "\n",
    "def sort_files_into_folders(path):\n",
    "    #Usamos os.listdir(path) para obtener una lista de nombres de archivos en el directorio. \n",
    "    #Luego, creamos una lista de rutas de archivos uniendo la ruta del directorio con cada nombre de archivo usando os.path.join.\n",
    "    file_names = os.listdir(path)\n",
    "    file_paths = [os.path.join(path, file) for file in file_names]\n",
    "\n",
    "    folder_map = {} # Creamos un diccionario vacío folder_map para almacenar la asignación entre extensiones de archivos y nombres de carpetas. \n",
    "    for file in file_names: # Repetimos los nombres de los archivos y extraemos la extensión del archivo usando os.path.splitext. \n",
    "        file_name, file_ext = os.path.splitext(file) \n",
    "        file_ext = file_ext[1:].lower() # Eliminamos el punto de la extensión y lo convertimos a minúsculas. \n",
    "        if file_ext not in folder_map: # Si la extensión aún no está en el folder_map, la agregamos con el nombre de carpeta correspondiente (por ejemplo, .txt se convierte en archivos txt)\n",
    "            folder_map[file_ext] = file_ext + ' files'\n",
    "\n",
    "    # Creamos los folders \n",
    "    for folder_name in folder_map.values(): # Recorremos los folder_name en folder_map y creamos cada carpeta\n",
    "        if not os.path.exists(os.path.join(path, folder_name)): #Usamos os.path.join para construir la ruta completa de la carpeta\n",
    "            print(os.path.join(path, folder_name)) \n",
    "            os.makedirs(os.path.join(path, folder_name)) #Y os.makedirs para crear la carpeta.\n",
    "\n",
    "    # Ordenar archivos en carpetas\n",
    "    for file_path in file_paths: # Recorremos las rutas de los archivos\n",
    "        file_name, file_ext = os.path.splitext(os.path.basename(file_path)) #Extraemos el nombre del archivo dependiendo la extension que tengan\n",
    "        file_ext = file_ext[1:].lower()  # Removemos el punto y lo convertimos en lowercase\n",
    "        folder_name = folder_map.get(file_ext, 'other files') \n",
    "        if not os.path.exists(os.path.join(path, folder_name, file_name + os.path.splitext(file_path)[1])): # Si no se encuentra la extensión, utilizamos otros archivos de forma \n",
    "            shutil.move(file_path, os.path.join(path, folder_name, file_name + os.path.splitext(file_path)[1])) # Luego movemos el archivo a su carpeta correspondiente usando Shutil.move.\n",
    "\n",
    "# Se ingrese la ruta del directorio y luego llamamos a la función con esa ruta.\n",
    "path = input(\"Ingrese la ruta del directorio: \")\n",
    "sort_files_into_folders(path) "
   ]
  },
  {
   "cell_type": "code",
   "execution_count": null,
   "id": "b7ce3e15-66b6-41ba-8ae4-bc6a0b703d90",
   "metadata": {},
   "outputs": [],
   "source": []
  },
  {
   "cell_type": "code",
   "execution_count": null,
   "id": "9d07c7b7-e6a7-4fb4-95a7-d66b4de0709b",
   "metadata": {},
   "outputs": [],
   "source": []
  },
  {
   "cell_type": "code",
   "execution_count": null,
   "id": "bb5ba936-a4a2-49fc-8a85-f9bf6347e63f",
   "metadata": {},
   "outputs": [],
   "source": []
  },
  {
   "cell_type": "code",
   "execution_count": null,
   "id": "b3012e28-e591-4974-9b3f-7c44ff5ff31f",
   "metadata": {},
   "outputs": [],
   "source": []
  },
  {
   "cell_type": "code",
   "execution_count": null,
   "id": "48031eb2-7eae-4e79-9858-63329b47f071",
   "metadata": {},
   "outputs": [],
   "source": []
  },
  {
   "cell_type": "code",
   "execution_count": null,
   "id": "c6ff5b2f-dbb9-4ea8-a6ac-a6da2fd7370b",
   "metadata": {},
   "outputs": [],
   "source": []
  },
  {
   "cell_type": "code",
   "execution_count": null,
   "id": "7d80a457-c1ad-4d11-ae35-a30bb9875211",
   "metadata": {},
   "outputs": [],
   "source": []
  },
  {
   "cell_type": "code",
   "execution_count": null,
   "id": "f69190ab-625b-4584-9616-374fc5762bbc",
   "metadata": {},
   "outputs": [],
   "source": []
  },
  {
   "cell_type": "code",
   "execution_count": null,
   "id": "46828527-e33a-4009-ab2e-030453bc35e4",
   "metadata": {},
   "outputs": [],
   "source": []
  },
  {
   "cell_type": "code",
   "execution_count": null,
   "id": "935d67fe-233b-490c-8a26-86b6ffeaab7e",
   "metadata": {},
   "outputs": [],
   "source": []
  },
  {
   "cell_type": "code",
   "execution_count": null,
   "id": "2479024a-0847-4eb4-b50e-6a31e3a71748",
   "metadata": {},
   "outputs": [],
   "source": [
    "import os\n",
    "import shutil\n",
    "\n",
    "def sort_files_into_folders(path):\n",
    "    file_names = os.listdir(path)\n",
    "    file_paths = [os.path.join(path, file) for file in file_names]\n",
    "\n",
    "    # Create a dictionary to map file extensions to folder names\n",
    "    folder_map = {}\n",
    "    for file in file_names:\n",
    "        file_name, file_ext = os.path.splitext(file)\n",
    "        file_ext = file_ext[1:].lower()  # Remove the dot and convert to lowercase\n",
    "        if file_ext not in folder_map:\n",
    "            folder_map[file_ext] = file_ext + ' files'\n",
    "\n",
    "    # Create folders\n",
    "    for folder_name in folder_map.values():\n",
    "        if not os.path.exists(os.path.join(path, folder_name)):\n",
    "            print(os.path.join(path, folder_name))\n",
    "            os.makedirs(os.path.join(path, folder_name))\n",
    "\n",
    "    # Sort files into folders\n",
    "    for file_path in file_paths:\n",
    "        file_name, file_ext = os.path.splitext(os.path.basename(file_path))\n",
    "        file_ext = file_ext[1:].lower()  # Remove the dot and convert to lowercase\n",
    "        folder_name = folder_map.get(file_ext, 'other files')\n",
    "        if not os.path.exists(os.path.join(path, folder_name, file_name + os.path.splitext(file_path)[1])):\n",
    "            shutil.move(file_path, os.path.join(path, folder_name, file_name + os.path.splitext(file_path)[1]))\n",
    "\n",
    "# Example usage:\n",
    "path = input(\"Enter the directory path: \")\n",
    "sort_files_into_folders(path)"
   ]
  },
  {
   "cell_type": "code",
   "execution_count": null,
   "id": "634bcedb-3d8b-483a-9b8d-33d7e6656bd9",
   "metadata": {},
   "outputs": [],
   "source": []
  }
 ],
 "metadata": {
  "kernelspec": {
   "display_name": "Python 3 (ipykernel)",
   "language": "python",
   "name": "python3"
  },
  "language_info": {
   "codemirror_mode": {
    "name": "ipython",
    "version": 3
   },
   "file_extension": ".py",
   "mimetype": "text/x-python",
   "name": "python",
   "nbconvert_exporter": "python",
   "pygments_lexer": "ipython3",
   "version": "3.12.4"
  }
 },
 "nbformat": 4,
 "nbformat_minor": 5
}

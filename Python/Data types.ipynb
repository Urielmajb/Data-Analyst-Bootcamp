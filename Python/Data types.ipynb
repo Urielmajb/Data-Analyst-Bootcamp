{
 "cells": [
  {
   "cell_type": "markdown",
   "id": "bd3567a9-927d-481d-a982-389c251df860",
   "metadata": {},
   "source": [
    "# Data types\n"
   ]
  },
  {
   "cell_type": "code",
   "execution_count": null,
   "id": "2b966f92-5f5e-4752-85b3-5ceda562fdb8",
   "metadata": {},
   "outputs": [],
   "source": [
    "#Numericos"
   ]
  },
  {
   "cell_type": "code",
   "execution_count": null,
   "id": "b96db495-0935-4b16-9c19-50d1a8735aee",
   "metadata": {},
   "outputs": [],
   "source": [
    "# Hay 3 tipos de numericos en los tipos de datos (int,float,complex)"
   ]
  },
  {
   "cell_type": "code",
   "execution_count": 4,
   "id": "27f05769-bf62-4c68-bc09-bff77bd4254b",
   "metadata": {},
   "outputs": [
    {
     "data": {
      "text/plain": [
       "int"
      ]
     },
     "execution_count": 4,
     "metadata": {},
     "output_type": "execute_result"
    }
   ],
   "source": [
    "#int\n",
    "type(-2 + 20)"
   ]
  },
  {
   "cell_type": "code",
   "execution_count": 6,
   "id": "57f7dd4e-d826-4977-9319-b455348a83cf",
   "metadata": {},
   "outputs": [
    {
     "data": {
      "text/plain": [
       "float"
      ]
     },
     "execution_count": 6,
     "metadata": {},
     "output_type": "execute_result"
    }
   ],
   "source": [
    "#float \n",
    "type(2.5 + 5)"
   ]
  },
  {
   "cell_type": "code",
   "execution_count": 7,
   "id": "43dfb8ac-4408-4d27-8b71-67e692c624b3",
   "metadata": {},
   "outputs": [
    {
     "data": {
      "text/plain": [
       "complex"
      ]
     },
     "execution_count": 7,
     "metadata": {},
     "output_type": "execute_result"
    }
   ],
   "source": [
    "#complex (Estos se usan para numeros imaginarios y solo con la j funcionan)\n",
    "type(12 + 3j) "
   ]
  },
  {
   "cell_type": "code",
   "execution_count": null,
   "id": "b46b550b-319d-4f10-bc80-f956d370295c",
   "metadata": {},
   "outputs": [],
   "source": [
    "# Booleanos"
   ]
  },
  {
   "cell_type": "code",
   "execution_count": 8,
   "id": "191fb41d-c105-40ad-8de4-898472929e09",
   "metadata": {},
   "outputs": [
    {
     "data": {
      "text/plain": [
       "bool"
      ]
     },
     "execution_count": 8,
     "metadata": {},
     "output_type": "execute_result"
    }
   ],
   "source": [
    "type(False)"
   ]
  },
  {
   "cell_type": "code",
   "execution_count": 9,
   "id": "60ae06a3-d0e8-4d1f-8849-52e6a22164a8",
   "metadata": {},
   "outputs": [
    {
     "data": {
      "text/plain": [
       "bool"
      ]
     },
     "execution_count": 9,
     "metadata": {},
     "output_type": "execute_result"
    }
   ],
   "source": [
    "type(1 > 5)"
   ]
  },
  {
   "cell_type": "code",
   "execution_count": 10,
   "id": "ed4fde12-4415-4e81-893f-2ae5519d6e28",
   "metadata": {},
   "outputs": [
    {
     "data": {
      "text/plain": [
       "'Single Quote'"
      ]
     },
     "execution_count": 10,
     "metadata": {},
     "output_type": "execute_result"
    }
   ],
   "source": [
    "# Strings (Se pueden usar comillas simples, dobles y triples)\n",
    "'Single Quote'\n"
   ]
  },
  {
   "cell_type": "code",
   "execution_count": 11,
   "id": "4920b61f-fb48-494f-8a1d-0bff87e372c5",
   "metadata": {},
   "outputs": [
    {
     "data": {
      "text/plain": [
       "'Double Quote'"
      ]
     },
     "execution_count": 11,
     "metadata": {},
     "output_type": "execute_result"
    }
   ],
   "source": [
    "\"Double Quote\""
   ]
  },
  {
   "cell_type": "code",
   "execution_count": 22,
   "id": "f0762993-430b-4d64-b223-3bf4bf9a0514",
   "metadata": {},
   "outputs": [
    {
     "name": "stdout",
     "output_type": "stream",
     "text": [
      "\n",
      "The ice cream vanquished \n",
      "my longing for sweets, \n",
      "upon this diet i look away,\n",
      "it no longer exist on this day.\n",
      "\n"
     ]
    }
   ],
   "source": [
    "multiline = \"\"\"\n",
    "The ice cream vanquished \n",
    "my longing for sweets, \n",
    "upon this diet i look away,\n",
    "it no longer exist on this day.\n",
    "\"\"\"\n",
    "print(multiline)"
   ]
  },
  {
   "cell_type": "code",
   "execution_count": 19,
   "id": "da5cd7c0-b7ef-445e-964f-82188b57e9f7",
   "metadata": {},
   "outputs": [
    {
     "name": "stdout",
     "output_type": "stream",
     "text": [
      "llo\n"
     ]
    }
   ],
   "source": [
    "#index (Puedo buscar dentro de la varibale y ese indice comienza con cero)\n",
    "\n",
    "a= 'Hello world!'\n",
    "print(a[2:5])"
   ]
  },
  {
   "cell_type": "code",
   "execution_count": 20,
   "id": "acdd9ba3-d864-4580-9c95-94b7d7cb188d",
   "metadata": {},
   "outputs": [
    {
     "data": {
      "text/plain": [
       "'Hello world!Hello world!Hello world!'"
      ]
     },
     "execution_count": 20,
     "metadata": {},
     "output_type": "execute_result"
    }
   ],
   "source": [
    "a*3"
   ]
  },
  {
   "cell_type": "code",
   "execution_count": 21,
   "id": "679dfecd-6566-4acb-b6e4-e41774524aae",
   "metadata": {},
   "outputs": [
    {
     "data": {
      "text/plain": [
       "'Hello world!Hello world!'"
      ]
     },
     "execution_count": 21,
     "metadata": {},
     "output_type": "execute_result"
    }
   ],
   "source": [
    "a + a"
   ]
  },
  {
   "cell_type": "code",
   "execution_count": 23,
   "id": "797f2290-96c7-433d-80cf-c2cac773b48d",
   "metadata": {},
   "outputs": [
    {
     "data": {
      "text/plain": [
       "[1, 2, 3]"
      ]
     },
     "execution_count": 23,
     "metadata": {},
     "output_type": "execute_result"
    }
   ],
   "source": [
    "# Lista (Puede almacenar mas de una variable y se usan los corchetes) \n",
    "\n",
    "[1,2,3]\n"
   ]
  },
  {
   "cell_type": "code",
   "execution_count": 24,
   "id": "2e4731c4-a360-4d7b-90f0-078c83501bcb",
   "metadata": {},
   "outputs": [
    {
     "data": {
      "text/plain": [
       "['Cookie dough', 'Strawberry', 'Chocolate']"
      ]
     },
     "execution_count": 24,
     "metadata": {},
     "output_type": "execute_result"
    }
   ],
   "source": [
    "['Cookie dough', 'Strawberry', 'Chocolate']"
   ]
  },
  {
   "cell_type": "code",
   "execution_count": 25,
   "id": "f854f0f6-7902-476e-a7b6-175a3ace2525",
   "metadata": {},
   "outputs": [
    {
     "data": {
      "text/plain": [
       "['Vanilla', 3, ['Scopps', 'Spoon'], True]"
      ]
     },
     "execution_count": 25,
     "metadata": {},
     "output_type": "execute_result"
    }
   ],
   "source": [
    "['Vanilla', 3, ['Scopps', 'Spoon'], True] #Tambien se pueden crear listas con diferentes tipos de datos."
   ]
  },
  {
   "cell_type": "code",
   "execution_count": 27,
   "id": "3ef595fd-72cf-41c9-836b-f3c317ade5db",
   "metadata": {},
   "outputs": [
    {
     "name": "stdout",
     "output_type": "stream",
     "text": [
      "['Cookie Dough', 'Strawberry', 'Chocolate', 'Salted caramel']\n"
     ]
    }
   ],
   "source": [
    "ice_cream = ['Cookie Dough', 'Strawberry', 'Chocolate']\n",
    "ice_cream.append('Salted caramel') #Esto ayuda a que agrege el dato al final de la lista\n",
    "\n",
    "print(ice_cream)"
   ]
  },
  {
   "cell_type": "code",
   "execution_count": 29,
   "id": "0db7fe45-38f8-4c4a-af0c-491075f0c3b6",
   "metadata": {},
   "outputs": [
    {
     "name": "stdout",
     "output_type": "stream",
     "text": [
      "['Butter pecan', 'Strawberry', 'Chocolate', 'Salted caramel']\n"
     ]
    }
   ],
   "source": [
    "ice_cream[0] = 'Butter pecan'\n",
    "\n",
    "print(ice_cream)"
   ]
  },
  {
   "cell_type": "code",
   "execution_count": 31,
   "id": "51f99408-94ea-4dfb-b64d-1406537af7fb",
   "metadata": {},
   "outputs": [
    {
     "data": {
      "text/plain": [
       "'Spoon'"
      ]
     },
     "execution_count": 31,
     "metadata": {},
     "output_type": "execute_result"
    }
   ],
   "source": [
    "nest_list= ['Vanilla', 3, ['Scopps', 'Spoon'], True]\n",
    "nest_list[2][1]"
   ]
  },
  {
   "cell_type": "code",
   "execution_count": 32,
   "id": "14da06a6-153b-4eb1-93d2-7a8ddcea0242",
   "metadata": {},
   "outputs": [
    {
     "data": {
      "text/plain": [
       "tuple"
      ]
     },
     "execution_count": 32,
     "metadata": {},
     "output_type": "execute_result"
    }
   ],
   "source": [
    "# Tuplas (Las tuplas son algo similares a las listas, a excepcion que estas son se pueden modificar, ni cambiar despues de haberse creado )\n",
    "\n",
    "tuple_scoops= (1,2,3,2,1)\n",
    "type(tuple_scoops)\n"
   ]
  },
  {
   "cell_type": "code",
   "execution_count": 33,
   "id": "bd0719db-c857-48a6-b30f-9a2d003d6098",
   "metadata": {},
   "outputs": [
    {
     "data": {
      "text/plain": [
       "1"
      ]
     },
     "execution_count": 33,
     "metadata": {},
     "output_type": "execute_result"
    }
   ],
   "source": [
    "tuple_scoops[0]"
   ]
  },
  {
   "cell_type": "code",
   "execution_count": 34,
   "id": "33992609-d9ba-4286-844f-b2e109ead70b",
   "metadata": {},
   "outputs": [
    {
     "data": {
      "text/plain": [
       "set"
      ]
     },
     "execution_count": 34,
     "metadata": {},
     "output_type": "execute_result"
    }
   ],
   "source": [
    "# Sets (Son algo similiares a las listas y tuplas, lo unico que los elementos nos se pueden duplicar, no pueden ser accedidos por indexes )\n",
    "\n",
    "daily_pints = {1,2,3}\n",
    "type(daily_pints)"
   ]
  },
  {
   "cell_type": "code",
   "execution_count": 44,
   "id": "6e08cebe-fcd2-42de-a36d-f244140adf8e",
   "metadata": {},
   "outputs": [
    {
     "name": "stdout",
     "output_type": "stream",
     "text": [
      "{1, 2, 3, 4, 5, 43}\n"
     ]
    }
   ],
   "source": [
    "daily_pints_logs = {1,2,3,4,5,3,2,43}\n",
    "print(daily_pints_logs)\n",
    "# A como observamos estos solo imprimer los datos que no se repiten"
   ]
  },
  {
   "cell_type": "code",
   "execution_count": 45,
   "id": "1a4fb645-c679-42e7-b624-da73f1985022",
   "metadata": {},
   "outputs": [
    {
     "name": "stdout",
     "output_type": "stream",
     "text": [
      "{1, 2, 3, 4, 5, 9, 43, 2222, 23, 123}\n"
     ]
    }
   ],
   "source": [
    "\n",
    "wife_daily_pints_logs = {9,2,2222,123,1,23,5,43}\n",
    "\n",
    "print(daily_pints_logs | wife_daily_pints_logs)"
   ]
  },
  {
   "cell_type": "code",
   "execution_count": 46,
   "id": "78f9e4a2-bd78-459f-b110-ec4aab111900",
   "metadata": {},
   "outputs": [
    {
     "name": "stdout",
     "output_type": "stream",
     "text": [
      "{1, 2, 43, 5}\n"
     ]
    }
   ],
   "source": [
    "print(daily_pints_logs & wife_daily_pints_logs)"
   ]
  },
  {
   "cell_type": "code",
   "execution_count": 47,
   "id": "ca11da4e-ab34-4078-92cc-847eec00277e",
   "metadata": {},
   "outputs": [
    {
     "name": "stdout",
     "output_type": "stream",
     "text": [
      "{3, 4}\n"
     ]
    }
   ],
   "source": [
    "print(daily_pints_logs - wife_daily_pints_logs)"
   ]
  },
  {
   "cell_type": "code",
   "execution_count": 48,
   "id": "9971b3a1-47df-4bb5-81b6-3e4ffa4c3cd5",
   "metadata": {},
   "outputs": [
    {
     "data": {
      "text/plain": [
       "dict"
      ]
     },
     "execution_count": 48,
     "metadata": {},
     "output_type": "execute_result"
    }
   ],
   "source": [
    "# Dictionaries (Este consite en una llave y valor es decir, la llave indica que valor tendra)\n",
    "\n",
    "dict_cream = {'name': 'Urielma', 'Weekly intake': 5, 'Favorite icre cream': ['Chocolate','Cookies']}\n",
    "type(dict_cream)"
   ]
  },
  {
   "cell_type": "code",
   "execution_count": 49,
   "id": "f7a2a8a8-8e5b-44b3-a15f-114c89a178f4",
   "metadata": {},
   "outputs": [
    {
     "name": "stdout",
     "output_type": "stream",
     "text": [
      "{'name': 'Urielma', 'Weekly intake': 5, 'Favorite icre cream': ['Chocolate', 'Cookies']}\n"
     ]
    }
   ],
   "source": [
    "print(dict_cream)"
   ]
  },
  {
   "cell_type": "code",
   "execution_count": 50,
   "id": "62d96ea0-ddcd-43a8-a382-bc63aba1fd08",
   "metadata": {},
   "outputs": [
    {
     "data": {
      "text/plain": [
       "dict_values(['Urielma', 5, ['Chocolate', 'Cookies']])"
      ]
     },
     "execution_count": 50,
     "metadata": {},
     "output_type": "execute_result"
    }
   ],
   "source": [
    "dict_cream.values()"
   ]
  },
  {
   "cell_type": "code",
   "execution_count": 51,
   "id": "d62ad1f7-48e7-4bad-a96f-be83215cef6f",
   "metadata": {},
   "outputs": [
    {
     "data": {
      "text/plain": [
       "dict_keys(['name', 'Weekly intake', 'Favorite icre cream'])"
      ]
     },
     "execution_count": 51,
     "metadata": {},
     "output_type": "execute_result"
    }
   ],
   "source": [
    "dict_cream.keys()"
   ]
  },
  {
   "cell_type": "code",
   "execution_count": 52,
   "id": "1695b23b-89c2-4cd7-8615-6767bd6a5586",
   "metadata": {},
   "outputs": [
    {
     "data": {
      "text/plain": [
       "dict_items([('name', 'Urielma'), ('Weekly intake', 5), ('Favorite icre cream', ['Chocolate', 'Cookies'])])"
      ]
     },
     "execution_count": 52,
     "metadata": {},
     "output_type": "execute_result"
    }
   ],
   "source": [
    "dict_cream.items()"
   ]
  },
  {
   "cell_type": "code",
   "execution_count": 57,
   "id": "b504f488-1917-4425-ad3c-dc3a7b5fdc75",
   "metadata": {},
   "outputs": [
    {
     "data": {
      "text/plain": [
       "'Urielma'"
      ]
     },
     "execution_count": 57,
     "metadata": {},
     "output_type": "execute_result"
    }
   ],
   "source": [
    "dict_cream['name'] #Podemos especificar que es lo que queremos llamar del diccionario donde obtendremos el valor"
   ]
  },
  {
   "cell_type": "code",
   "execution_count": 58,
   "id": "db25b7f7-aafa-40a9-8d91-483c187a43c9",
   "metadata": {},
   "outputs": [
    {
     "name": "stdout",
     "output_type": "stream",
     "text": [
      "{'name': 'Christine Freberg', 'Weekly intake': 5, 'Favorite icre cream': ['Chocolate', 'Cookies']}\n"
     ]
    }
   ],
   "source": [
    "# Tambien podemos actualizar los valores de las llaves.\n",
    "\n",
    "dict_cream['name'] = 'Christine Freberg'\n",
    "print(dict_cream)\n"
   ]
  },
  {
   "cell_type": "code",
   "execution_count": null,
   "id": "fcc19495-749a-4381-bbea-09a9f57d8767",
   "metadata": {},
   "outputs": [],
   "source": []
  }
 ],
 "metadata": {
  "kernelspec": {
   "display_name": "Python 3 (ipykernel)",
   "language": "python",
   "name": "python3"
  },
  "language_info": {
   "codemirror_mode": {
    "name": "ipython",
    "version": 3
   },
   "file_extension": ".py",
   "mimetype": "text/x-python",
   "name": "python",
   "nbconvert_exporter": "python",
   "pygments_lexer": "ipython3",
   "version": "3.12.4"
  }
 },
 "nbformat": 4,
 "nbformat_minor": 5
}

{
 "cells": [
  {
   "cell_type": "markdown",
   "id": "21601c8e-1bcc-4df5-9dc0-3066a6feca71",
   "metadata": {},
   "source": [
    "# Funciones"
   ]
  },
  {
   "cell_type": "code",
   "execution_count": 1,
   "id": "c40fea83-9205-401c-8da1-1459caaac2d3",
   "metadata": {},
   "outputs": [],
   "source": [
    "def first_func():\n",
    "    print('We did it!')"
   ]
  },
  {
   "cell_type": "code",
   "execution_count": 2,
   "id": "81489337-2fec-41bc-8467-665167b5c871",
   "metadata": {},
   "outputs": [
    {
     "name": "stdout",
     "output_type": "stream",
     "text": [
      "We did it!\n"
     ]
    }
   ],
   "source": [
    "first_func()"
   ]
  },
  {
   "cell_type": "code",
   "execution_count": 4,
   "id": "f79939a3-f9e5-401c-bd5f-fcfecd647576",
   "metadata": {},
   "outputs": [
    {
     "name": "stdout",
     "output_type": "stream",
     "text": [
      "25\n"
     ]
    }
   ],
   "source": [
    "def number_squared(number): #Funciones con un argumento\n",
    "    print(number**2)\n",
    "\n",
    "number_squared(5)"
   ]
  },
  {
   "cell_type": "code",
   "execution_count": 5,
   "id": "61bcd6a1-8afe-4915-b92a-2eb84b8c7dcf",
   "metadata": {},
   "outputs": [
    {
     "name": "stdout",
     "output_type": "stream",
     "text": [
      "100\n"
     ]
    }
   ],
   "source": [
    "def number_squared_cust(number,power): #Funciones con dos argumentos\n",
    "    print(number**power)\n",
    "\n",
    "number_squared_cust(10,2)"
   ]
  },
  {
   "cell_type": "code",
   "execution_count": 7,
   "id": "add8e307-4255-40d3-9139-e8a93d2b0aba",
   "metadata": {},
   "outputs": [
    {
     "name": "stdout",
     "output_type": "stream",
     "text": [
      "30\n"
     ]
    }
   ],
   "source": [
    "#Argumentos arbitrarios \n",
    "# Permite que una función acepte un número arbitrario de argumentos\n",
    "\n",
    "args_tuples = (5,6,1,2,8)\n",
    "def number_arg(*number):\n",
    "    print(number[0]*number[1])\n",
    "\n",
    "number_arg(*args_tuples)"
   ]
  },
  {
   "cell_type": "code",
   "execution_count": 8,
   "id": "59178afd-6d93-4e87-ba58-e7143b39323f",
   "metadata": {},
   "outputs": [
    {
     "name": "stdout",
     "output_type": "stream",
     "text": [
      "32\n"
     ]
    }
   ],
   "source": [
    "def number_squared_cust(number,power): #Funciones con dos argumentos\n",
    "    print(number**power)\n",
    "\n",
    "number_squared_cust(power = 5, number = 2)"
   ]
  },
  {
   "cell_type": "code",
   "execution_count": 13,
   "id": "7df0e87e-da96-4403-8194-8c60fcb5208e",
   "metadata": {},
   "outputs": [
    {
     "name": "stdout",
     "output_type": "stream",
     "text": [
      "My number is: 2309 My other number: 349\n"
     ]
    }
   ],
   "source": [
    "#Keywords value\n",
    "\n",
    "def number_kwarg(**number): #Es una forma de pasar argumentos a una función especificando el nombre del argumento junto con su valor\n",
    "    print('My number is: ' + number['integer'] + ' My other number: ' + number ['integer2'])\n",
    "\n",
    "number_kwarg(integer = '2309', integer2 = '349')"
   ]
  },
  {
   "cell_type": "code",
   "execution_count": null,
   "id": "2a81b4ec-2f9b-4b77-ba06-7aef74f93d98",
   "metadata": {},
   "outputs": [],
   "source": []
  }
 ],
 "metadata": {
  "kernelspec": {
   "display_name": "Python 3 (ipykernel)",
   "language": "python",
   "name": "python3"
  },
  "language_info": {
   "codemirror_mode": {
    "name": "ipython",
    "version": 3
   },
   "file_extension": ".py",
   "mimetype": "text/x-python",
   "name": "python",
   "nbconvert_exporter": "python",
   "pygments_lexer": "ipython3",
   "version": "3.12.4"
  }
 },
 "nbformat": 4,
 "nbformat_minor": 5
}
